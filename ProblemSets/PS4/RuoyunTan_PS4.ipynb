{
 "cells": [
  {
   "cell_type": "markdown",
   "metadata": {},
   "source": [
    "## Problem Set 4"
   ]
  },
  {
   "cell_type": "markdown",
   "metadata": {},
   "source": [
    "MACS 30250, Dr. Evans\n",
    "\n",
    "Ruoyun Tan"
   ]
  },
  {
   "cell_type": "code",
   "execution_count": 80,
   "metadata": {},
   "outputs": [],
   "source": [
    "import numpy as np\n",
    "import scipy.optimize as opt\n",
    "import matplotlib.pyplot as plt\n",
    "import time"
   ]
  },
  {
   "cell_type": "markdown",
   "metadata": {},
   "source": [
    "### Exercise 2.1"
   ]
  },
  {
   "cell_type": "code",
   "execution_count": 81,
   "metadata": {},
   "outputs": [],
   "source": [
    "beta = 0.442\n",
    "delta = 0.6415\n",
    "sigma = 3\n",
    "A = 1\n",
    "alpha = 0.35\n",
    "\n",
    "f_params_init = (3, A, alpha, delta)\n",
    "\n",
    "def feasible(f_params, bvec_guess):\n",
    "    nvec, A, alpha, delta = f_params\n",
    "    \n",
    "    K = sum(bvec_guess)\n",
    "    L = sum(nvec)\n",
    "    r = alpha * A * (L / K) ** (1 - alpha) - delta  \n",
    "    w = (1 - alpha) * A * (K / L) ** alpha\n",
    "    c1 = w * nvec[0] - bvec_guess[0]\n",
    "    c2 = w * nvec[1] + (1 + r) * bvec_guess[0] - bvec_guess[1]\n",
    "    c3 = w * nvec[2] + (1 + r) * bvec_guess[1]\n",
    "    \n",
    "    K_cnstr = (K <= 0)\n",
    "    c_cnstr = (c1 <= 0, c2 <= 0, c3 <=0)\n",
    "    b_cnstr = ((c1 <= 0) or (c2 <= 0),  (c2 <= 0) or (c3 <=0))\n",
    "    \n",
    "    return(b_cnstr, c_cnstr, K_cnstr)"
   ]
  },
  {
   "cell_type": "code",
   "execution_count": 82,
   "metadata": {},
   "outputs": [],
   "source": [
    "nvec = np.array([1.0, 1.0, 0.2])\n",
    "f_params = [nvec, A, alpha, delta]"
   ]
  },
  {
   "cell_type": "markdown",
   "metadata": {},
   "source": [
    "#### a."
   ]
  },
  {
   "cell_type": "code",
   "execution_count": 83,
   "metadata": {},
   "outputs": [
    {
     "name": "stdout",
     "output_type": "stream",
     "text": [
      "((True, False), (True, False, False), False)\n"
     ]
    }
   ],
   "source": [
    "bvec_guess = np.array([1.0, 1.2])\n",
    "print(feasible(f_params, bvec_guess))"
   ]
  },
  {
   "cell_type": "markdown",
   "metadata": {},
   "source": [
    "Constraint on consumption in the first period is violated."
   ]
  },
  {
   "cell_type": "markdown",
   "metadata": {},
   "source": [
    "#### b."
   ]
  },
  {
   "cell_type": "code",
   "execution_count": 84,
   "metadata": {},
   "outputs": [
    {
     "name": "stdout",
     "output_type": "stream",
     "text": [
      "((False, False), (False, False, False), False)\n"
     ]
    }
   ],
   "source": [
    "bvec_guess = np.array([0.06, -0.001])\n",
    "print(feasible(f_params, bvec_guess))"
   ]
  },
  {
   "cell_type": "markdown",
   "metadata": {},
   "source": [
    "Nothing is violated."
   ]
  },
  {
   "cell_type": "markdown",
   "metadata": {},
   "source": [
    "#### c."
   ]
  },
  {
   "cell_type": "code",
   "execution_count": 85,
   "metadata": {},
   "outputs": [
    {
     "name": "stdout",
     "output_type": "stream",
     "text": [
      "((False, False), (False, False, False), False)\n"
     ]
    }
   ],
   "source": [
    "bvec_guess = np.array([0.1, 0.1])\n",
    "print(feasible(f_params, bvec_guess))"
   ]
  },
  {
   "cell_type": "markdown",
   "metadata": {},
   "source": [
    "Again, nothing is violated."
   ]
  },
  {
   "cell_type": "markdown",
   "metadata": {},
   "source": [
    "### Exercise 2.2"
   ]
  },
  {
   "cell_type": "code",
   "execution_count": 86,
   "metadata": {},
   "outputs": [],
   "source": [
    "def EulErr(bvec, args):\n",
    "    nvec, A, alpha, delta, beta, sigma  = args\n",
    "    b2, b3 = bvec\n",
    "    K = sum(bvec)\n",
    "    L = sum(nvec)\n",
    "    r = alpha * A * (L / K) ** (1 - alpha) - delta  \n",
    "    w = (1 - alpha) * A * (K / L) ** alpha\n",
    "    c1 = w * nvec[0] - bvec_guess[0]\n",
    "    c2 = w * nvec[1] + (1 + r) * bvec_guess[0] - bvec_guess[1]\n",
    "    c3 = w * nvec[2] + (1 + r) * bvec_guess[1]\n",
    "    '''\n",
    "    mu1 = c1 ** (-sigma)\n",
    "    mu2 = c2 ** (-sigma)\n",
    "    mu3 = c3 ** (-sigma)\n",
    "    \n",
    "    err1 = mu1 - beta * (1 + r) * mu2\n",
    "    err2 = mu2 - beta * (1 + r) * mu3\n",
    "    '''\n",
    "    \n",
    "    err1 = (w - b2) ** (-sigma)  - beta * (1 + r) * (w + (1 + r) * b2 - b3) ** (-sigma)\n",
    "    err2 = (w + (1 + r) * b2 - b3) ** (-sigma) - beta * (1 + r) * (0.2 * w + (1 + r) * b3) ** (-sigma)\n",
    "    errs = np.array([err1, err2])\n",
    "    \n",
    "    return errs\n",
    "\n",
    "def get_SS(params, bvec_guess, SS_graphs):\n",
    "    \n",
    "    start_time = time.time() \n",
    "    beta, sigma, nvec, L, A, alpha, delta, SS_tol = params\n",
    "    args = np.array([nvec, A, alpha, delta, beta, sigma])\n",
    "    result = opt.root(EulErr, bvec_guess, tol=SS_tol, args = args)\n",
    "    b_ss = result.x \n",
    "    EulErr_ss = result.fun\n",
    "    b2, b3 = b_ss\n",
    "    \n",
    "    K_ss = sum(b_ss)\n",
    "    r_ss = alpha * A * (L / K_ss) ** (1 - alpha) - delta\n",
    "    w_ss = (1 - alpha) * A * (K_ss / L) ** alpha\n",
    "    c1   = w_ss * nvec[0] - b2\n",
    "    c2   = w_ss * nvec[1] + (1 + r_ss) * b2 - b3\n",
    "    c3   = w_ss * nvec[2] + (1 + r_ss) * b3 \n",
    "    c_ss = np.array([c1, c2, c3])\n",
    "    C_ss = sum(c_ss)\n",
    "    \n",
    "    Y_ss = A * K_ss ** alpha * L **(1 - alpha)\n",
    "    \n",
    "    RCerr_ss = Y_ss - C_ss - delta * K_ss\n",
    "    \n",
    "    ss_time = time.time() - start_time\n",
    "    \n",
    "    ss_output = {\n",
    "    'b_ss': b_ss, \n",
    "    'c_ss': c_ss, \n",
    "    'w_ss': w_ss, \n",
    "    'r_ss': r_ss,\n",
    "    'K_ss': K_ss, \n",
    "    'Y_ss': Y_ss, \n",
    "    'C_ss': C_ss,\n",
    "    'EulErr_ss': EulErr_ss, \n",
    "    'RCerr_ss': RCerr_ss,\n",
    "    'ss_time': ss_time}\n",
    "    \n",
    "    if SS_graphs:\n",
    "        plt.plot((1, 2, 3), (c1, c2, c3), label='Consumption')\n",
    "        plt.plot((2, 3), (b2, b3), label='Savings')\n",
    "        plt.title('Steady State Consumption and Savings')\n",
    "        plt.xlabel('Period')\n",
    "        plt.ylabel('Amount')\n",
    "        plt.legend();\n",
    "    return ss_output"
   ]
  },
  {
   "cell_type": "markdown",
   "metadata": {},
   "source": [
    "#### a."
   ]
  },
  {
   "cell_type": "code",
   "execution_count": 87,
   "metadata": {},
   "outputs": [
    {
     "name": "stdout",
     "output_type": "stream",
     "text": [
      "{'b_ss': array([0.01931253, 0.0584111 ]), 'c_ss': array([0.18241213, 0.20961468, 0.24087387]), 'w_ss': 0.20172465739052575, 'r_ss': 2.433062339127069, 'K_ss': 0.07772362575316386, 'Y_ss': 0.6827603788602411, 'C_ss': 0.6329006729395864, 'EulErr_ss': array([-1.39266376e-12,  2.62900812e-12]), 'RCerr_ss': 8.326672684688674e-17, 'ss_time': 0.0006299018859863281}\n"
     ]
    }
   ],
   "source": [
    "SS_tol = 1e-10\n",
    "bvec_guess = np.array([0.1, 0.1])\n",
    "params = (beta, sigma, nvec, sum(nvec), A, alpha, delta, SS_tol)\n",
    "SS = get_SS(params, bvec_guess, SS_graphs=False)\n",
    "print(get_SS(params, bvec_guess, SS_graphs=False))"
   ]
  },
  {
   "cell_type": "markdown",
   "metadata": {},
   "source": [
    "#### b."
   ]
  },
  {
   "cell_type": "code",
   "execution_count": 88,
   "metadata": {},
   "outputs": [
    {
     "data": {
      "text/plain": [
       "{'b_ss': array([0.01931253, 0.0584111 ]),\n",
       " 'c_ss': array([0.18241213, 0.20961468, 0.24087387]),\n",
       " 'w_ss': 0.20172465739052575,\n",
       " 'r_ss': 2.433062339127069,\n",
       " 'K_ss': 0.07772362575316386,\n",
       " 'Y_ss': 0.6827603788602411,\n",
       " 'C_ss': 0.6329006729395864,\n",
       " 'EulErr_ss': array([-1.39266376e-12,  2.62900812e-12]),\n",
       " 'RCerr_ss': 8.326672684688674e-17,\n",
       " 'ss_time': 0.0006899833679199219}"
      ]
     },
     "execution_count": 88,
     "metadata": {},
     "output_type": "execute_result"
    },
    {
     "data": {
      "image/png": "[encoded data removed]",
      "text/plain": [
       "<Figure size 432x288 with 1 Axes>"
      ]
     },
     "metadata": {
      "needs_background": "light"
     },
     "output_type": "display_data"
    }
   ],
   "source": [
    "get_SS(params, bvec_guess, SS_graphs=True)"
   ]
  },
  {
   "cell_type": "markdown",
   "metadata": {},
   "source": [
    "#### c."
   ]
  },
  {
   "cell_type": "code",
   "execution_count": 89,
   "metadata": {},
   "outputs": [
    {
     "data": {
      "text/plain": [
       "{'b_ss': array([0.02817692, 0.07686545]),\n",
       " 'c_ss': array([0.19597528, 0.22861594, 0.26669307]),\n",
       " 'w_ss': 0.22415219593446262,\n",
       " 'r_ss': 1.8863765057190747,\n",
       " 'K_ss': 0.10504237022597478,\n",
       " 'Y_ss': 0.7586689708551043,\n",
       " 'C_ss': 0.6912842903551415,\n",
       " 'EulErr_ss': array([ 5.68434189e-14, -2.84217094e-14]),\n",
       " 'RCerr_ss': 1.3877787807814457e-17,\n",
       " 'ss_time': 0.0005781650543212891}"
      ]
     },
     "execution_count": 89,
     "metadata": {},
     "output_type": "execute_result"
    }
   ],
   "source": [
    "params  = (0.55, sigma, nvec, sum(nvec), A, alpha, delta, SS_tol)\n",
    "get_SS(params, bvec_guess, SS_graphs=False)"
   ]
  },
  {
   "cell_type": "markdown",
   "metadata": {},
   "source": [
    "If $\\beta$ increases, we see that the consumptions, savings, and $\\bar{w}$ increase, while $\\bar{r}$ decreases. This is to say that people save more and plan to consume more in the future, resulting in lower interest rate and higher wages."
   ]
  },
  {
   "cell_type": "markdown",
   "metadata": {},
   "source": [
    "### Exercise 3"
   ]
  },
  {
   "cell_type": "code",
   "execution_count": 113,
   "metadata": {},
   "outputs": [],
   "source": [
    "beta = 0.442\n",
    "T = 50\n",
    "xi = 0.1\n",
    "L = sum(nvec)\n",
    "bvec = np.array([0.1, 0.1])\n",
    "#params = (beta, sigma, nvec, L, A, alpha, delta, SS_tol)\n",
    "b_ss   = SS['b_ss']\n",
    "b2_end = b_ss[0]\n",
    "b3_end = b_ss[1]\n",
    "K_end   = sum(b_ss)\n",
    "b2_first = b2_end * 0.8\n",
    "b3_first = b3_end * 1.1\n",
    "K_first = sum(b_first)\n",
    "K_vec  = np.linspace(K_first, K_end, T)\n",
    "K_vec = np.append(K_vec, K_end)"
   ]
  },
  {
   "cell_type": "code",
   "execution_count": 115,
   "metadata": {
    "scrolled": false
   },
   "outputs": [
    {
     "name": "stdout",
     "output_type": "stream",
     "text": [
      "10\n"
     ]
    },
    {
     "name": "stderr",
     "output_type": "stream",
     "text": [
      "/Users/ruoyuntan/anaconda3/lib/python3.7/site-packages/ipykernel_launcher.py:20: RuntimeWarning: divide by zero encountered in power\n"
     ]
    }
   ],
   "source": [
    "dist = 10\n",
    "i = 0\n",
    "while dist > 1e-10:\n",
    "    r_vec  = alpha * A * (L / K_vec) ** (1 - alpha) - delta\n",
    "    w_vec  = (1 - alpha) * A * (K_vec / L) ** alpha\n",
    "    i += 1\n",
    "    print(dist)\n",
    "    b2_vec = np.zeros(T)\n",
    "    b3_vec = np.zeros(T)\n",
    "    err1_vec   = np.zeros(T)\n",
    "    err2_vec   = np.zeros(T)\n",
    "    b2_vec[0] = b2_first\n",
    "    b3_vec[0] = b3_first\n",
    "    for t in range(1, T+1):\n",
    "        if t == 1:\n",
    "            def get_EulErr_first(b31):\n",
    "                b2 = b2_vec[0]\n",
    "                w1, w2 = w_vec[:2]\n",
    "                r1, r2 = r_vec[:2]\n",
    "                EulErr_first = (w1 + (1 + r1) * b2 - b31) ** (-sigma) - beta * (1 + r2) * ((1 + r2) * b31 + 0.2 * w2) ** (-sigma) \n",
    "\n",
    "                return EulErr_first\n",
    "            \n",
    "            result = opt.minimize(get_EulErr_first, 0.1, tol = epsilon * 1e-2, method = 'Nelder-Mead')\n",
    "            b3_vec[1] = result.x\n",
    "            err2_vec[1] = get_EulErr_first(result.x)\n",
    "        else:\n",
    "            def get_EulErr_following(bvec):\n",
    "                b31, b2 = bvec\n",
    "                b3 = b3_vec[t-1]\n",
    "                w1, w2, w3 = w_vec[t-2:t+1]\n",
    "                r2, r3 = r_vec[t-1:t+1]\n",
    "\n",
    "                err1 = (w1 - b2) ** (-sigma) - beta * (1 + r2) * (w2 + (1 + r2) * b2 - b31) ** (-sigma)\n",
    "                err2 = (w2 + (1 + r2) * b2 - b31) ** (-sigma) - beta * (1 + r3) * ((1 + r3) * b31 + 0.2 * w3) ** (-sigma)\n",
    "\n",
    "                return err1, err2\n",
    "            def se(bvec):\n",
    "                err1, err2 = get_EulErr_following(bvec)\n",
    "                \n",
    "                return (err1 ** 2 + err2 ** 2)\n",
    "            result = opt.minimize(se, [0.1, 0.1], tol = epsilon * 1e-2, method = 'Nelder-Mead')\n",
    "            if t != T:\n",
    "                b3_vec[t], b2_vec[t-1] = result.x\n",
    "                err1_vec[t-1], err2_vec[t] = get_EulErr_following(result.x)\n",
    "            else:\n",
    "                b2_vec[t-1] = result.x[1]\n",
    "                err1_vec[t-1] = get_EulErr_following(result.x)[1]\n",
    "                \n",
    "        \n",
    "    K2 = b2_vec + b3_vec\n",
    "    dist = sum((K2 - K_vec[0:T]) ** 2)\n",
    "    K_vec = (1 - xi) * K_vec + xi * np.append(K2, K_ss)\n",
    "    "
   ]
  },
  {
   "cell_type": "markdown",
   "metadata": {},
   "source": [
    "#### a."
   ]
  },
  {
   "cell_type": "code",
   "execution_count": 116,
   "metadata": {},
   "outputs": [
    {
     "name": "stdout",
     "output_type": "stream",
     "text": [
      "The maximum absolute values of all the Euler errors across the entire time path are 5.107105494062125e-08 and 4.637412587271683e-08 ,respectively.\n",
      "The maximum of the absolute value of all the aggregate resource constraint errors is 0.055707941994083854\n"
     ]
    }
   ],
   "source": [
    "print(\"The maximum absolute values of all the Euler errors across the entire time path are\", max(abs(err1_vec)), \"and\", abs(max(err2_vec)), \",respectively.\")\n",
    "\n",
    "Y_vec = A * K_vec[0:T] ** alpha * L ** (1 - alpha)\n",
    "#c1 = w_vec - bvec[:,0]\n",
    "#c2 = w_vec + (1 + r_vec) * bvec[:,0] - bvec[:,1]\n",
    "#c3 = 0.2 * w_vec + (1 + r_vec) * bvec[:,1]\n",
    "C_vec = w_vec[0:T] - b2_vec + w_vec[0:T] + (1 + r_vec[0:T]) * b2_vec - b3_vec + 0.2 * w_vec[0:T] + (1 + r_vec[0:T]) * b3_vec\n",
    "\n",
    "agg_err = Y_vec - C_vec - K_vec[1:T+1] + (1 - delta) * K_vec[0:T]\n",
    "#agg_err = Y_vec - c1[0:T] - c2[0:T] - c3[0:T] - K_vec[1:] - (1 - delta) * K_vec[0:-1]\n",
    "\n",
    "print(\"The maximum of the absolute value of all the aggregate resource constraint errors is\", max(abs(agg_err)))\n"
   ]
  },
  {
   "cell_type": "code",
   "execution_count": 117,
   "metadata": {},
   "outputs": [
    {
     "data": {
      "image/png": "[encoded data removed]",
      "text/plain": [
       "<Figure size 432x288 with 1 Axes>"
      ]
     },
     "metadata": {
      "needs_background": "light"
     },
     "output_type": "display_data"
    },
    {
     "data": {
      "image/png": "[encoded data removed]",
      "text/plain": [
       "<Figure size 432x288 with 1 Axes>"
      ]
     },
     "metadata": {
      "needs_background": "light"
     },
     "output_type": "display_data"
    },
    {
     "data": {
      "image/png": "[encoded data removed]",
      "text/plain": [
       "<Figure size 432x288 with 1 Axes>"
      ]
     },
     "metadata": {
      "needs_background": "light"
     },
     "output_type": "display_data"
    }
   ],
   "source": [
    "plt.plot(K_vec, label='Capital')\n",
    "plt.title('Equilibrium time path of aggregate capital')\n",
    "plt.xlabel('T')\n",
    "plt.ylabel('K')\n",
    "plt.show()\n",
    "\n",
    "plt.plot(w_vec, label='Wage')\n",
    "plt.title('Equilibrium time path of wage')\n",
    "plt.xlabel('T')\n",
    "plt.ylabel('w')\n",
    "plt.show()\n",
    "\n",
    "plt.plot(r_vec, label='Interest rate')\n",
    "plt.title('Equilibrium time path of interest rate')\n",
    "plt.xlabel('T')\n",
    "plt.ylabel('r')\n",
    "plt.show()"
   ]
  },
  {
   "cell_type": "markdown",
   "metadata": {},
   "source": [
    "#### c."
   ]
  },
  {
   "cell_type": "code",
   "execution_count": 126,
   "metadata": {},
   "outputs": [
    {
     "name": "stdout",
     "output_type": "stream",
     "text": [
      "It take 18 for the economy to get within 0.00001 of the steady-state aggregate capital stock\n",
      "After the 18 period, the aggregate capital stock never is again farther than 0.00001 away from the steady-state\n"
     ]
    }
   ],
   "source": [
    "close = min(np.where(abs(K_end - K_vec) < 1e-5)[0]) + 1\n",
    "converge = max(np.where(abs(K_end - K_vec) > 1e-5)[0]) + 2\n",
    "print(\"It take\", close, \"for the economy to get within 0.00001 of the steady-state aggregate capital stock\")\n",
    "print(\"After the\", converge, \"period, the aggregate capital stock never is again farther than 0.00001 away from the steady-state\")"
   ]
  }
 ],
 "metadata": {
  "kernelspec": {
   "display_name": "Python 3",
   "language": "python",
   "name": "python3"
  },
  "language_info": {
   "codemirror_mode": {
    "name": "ipython",
    "version": 3
   },
   "file_extension": ".py",
   "mimetype": "text/x-python",
   "name": "python",
   "nbconvert_exporter": "python",
   "pygments_lexer": "ipython3",
   "version": "3.7.6"
  }
 },
 "nbformat": 4,
 "nbformat_minor": 4
}
